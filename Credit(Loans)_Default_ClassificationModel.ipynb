{
  "nbformat": 4,
  "nbformat_minor": 0,
  "metadata": {
    "colab": {
      "name": "Credit(Loans)_Default_ClassificationModel.ipynb",
      "provenance": [],
      "collapsed_sections": [
        "3E5ILWMqwKbY",
        "O5byTFaMwIsW",
        "Ho9r6928wdhV",
        "xUKZexrv_UCv",
        "Q2Ll8WssC7IC"
      ],
      "toc_visible": true,
      "authorship_tag": "ABX9TyNy66nJ9jqtkTMi/QzLcSB7",
      "include_colab_link": true
    },
    "kernelspec": {
      "name": "python3",
      "display_name": "Python 3"
    },
    "language_info": {
      "name": "python"
    }
  },
  "cells": [
    {
      "cell_type": "markdown",
      "metadata": {
        "id": "view-in-github",
        "colab_type": "text"
      },
      "source": [
        "<a href=\"https://colab.research.google.com/github/Louismada29/Credits_Default/blob/main/Credit(Loans)_Default_ClassificationModel.ipynb\" target=\"_parent\"><img src=\"https://colab.research.google.com/assets/colab-badge.svg\" alt=\"Open In Colab\"/></a>"
      ]
    },
    {
      "cell_type": "markdown",
      "metadata": {
        "id": "3E5ILWMqwKbY"
      },
      "source": [
        "# Import Library"
      ]
    },
    {
      "cell_type": "code",
      "metadata": {
        "id": "SIo858Teu0hw"
      },
      "source": [
        "import pandas as pd\n",
        "import numpy as np\n",
        "import matplotlib.pyplot as plt\n",
        "import seaborn as sns"
      ],
      "execution_count": 166,
      "outputs": []
    },
    {
      "cell_type": "markdown",
      "metadata": {
        "id": "O5byTFaMwIsW"
      },
      "source": [
        "# Data Understanding"
      ]
    },
    {
      "cell_type": "markdown",
      "metadata": {
        "id": "gJskCwJovkQH"
      },
      "source": [
        "## Read Data"
      ]
    },
    {
      "cell_type": "code",
      "metadata": {
        "colab": {
          "base_uri": "https://localhost:8080/",
          "height": 206
        },
        "id": "ABDHT5zjvbeQ",
        "outputId": "82dd99b6-1ad1-4f2f-ec9e-de00f9efd21c"
      },
      "source": [
        "data = pd.read_csv('https://raw.githubusercontent.com/Louismada29/Credits_Default/main/credit_default_dataset.csv')\n",
        "data.head()"
      ],
      "execution_count": 167,
      "outputs": [
        {
          "output_type": "execute_result",
          "data": {
            "text/html": [
              "<div>\n",
              "<style scoped>\n",
              "    .dataframe tbody tr th:only-of-type {\n",
              "        vertical-align: middle;\n",
              "    }\n",
              "\n",
              "    .dataframe tbody tr th {\n",
              "        vertical-align: top;\n",
              "    }\n",
              "\n",
              "    .dataframe thead th {\n",
              "        text-align: right;\n",
              "    }\n",
              "</style>\n",
              "<table border=\"1\" class=\"dataframe\">\n",
              "  <thead>\n",
              "    <tr style=\"text-align: right;\">\n",
              "      <th></th>\n",
              "      <th>customer_id</th>\n",
              "      <th>customer_bod</th>\n",
              "      <th>gender</th>\n",
              "      <th>phone_flag</th>\n",
              "      <th>student</th>\n",
              "      <th>employment</th>\n",
              "      <th>credit_card</th>\n",
              "      <th>balance</th>\n",
              "      <th>income</th>\n",
              "      <th>tenure</th>\n",
              "      <th>default</th>\n",
              "    </tr>\n",
              "  </thead>\n",
              "  <tbody>\n",
              "    <tr>\n",
              "      <th>0</th>\n",
              "      <td>8300</td>\n",
              "      <td>1993-08-17</td>\n",
              "      <td>Female</td>\n",
              "      <td>1.0</td>\n",
              "      <td>No</td>\n",
              "      <td>Self Employed</td>\n",
              "      <td>1.0</td>\n",
              "      <td>87104.12</td>\n",
              "      <td>5015120.75</td>\n",
              "      <td>4yrs 4mon</td>\n",
              "      <td>0</td>\n",
              "    </tr>\n",
              "    <tr>\n",
              "      <th>1</th>\n",
              "      <td>672</td>\n",
              "      <td>2007-12-17</td>\n",
              "      <td>Female</td>\n",
              "      <td>1.0</td>\n",
              "      <td>Yes</td>\n",
              "      <td>NaN</td>\n",
              "      <td>0.0</td>\n",
              "      <td>89236.34</td>\n",
              "      <td>2266076.58</td>\n",
              "      <td>4yrs 1mon</td>\n",
              "      <td>0</td>\n",
              "    </tr>\n",
              "    <tr>\n",
              "      <th>2</th>\n",
              "      <td>5670</td>\n",
              "      <td>2000-02-05</td>\n",
              "      <td>Female</td>\n",
              "      <td>1.0</td>\n",
              "      <td>Yes</td>\n",
              "      <td>NaN</td>\n",
              "      <td>0.0</td>\n",
              "      <td>171553.12</td>\n",
              "      <td>1779347.34</td>\n",
              "      <td>0yrs 9mon</td>\n",
              "      <td>0</td>\n",
              "    </tr>\n",
              "    <tr>\n",
              "      <th>3</th>\n",
              "      <td>2975</td>\n",
              "      <td>1999-11-16</td>\n",
              "      <td>Female</td>\n",
              "      <td>1.0</td>\n",
              "      <td>Yes</td>\n",
              "      <td>NaN</td>\n",
              "      <td>0.0</td>\n",
              "      <td>85979.04</td>\n",
              "      <td>2014246.24</td>\n",
              "      <td>1yrs 8mon</td>\n",
              "      <td>0</td>\n",
              "    </tr>\n",
              "    <tr>\n",
              "      <th>4</th>\n",
              "      <td>3883</td>\n",
              "      <td>1977-08-18</td>\n",
              "      <td>Male</td>\n",
              "      <td>1.0</td>\n",
              "      <td>No</td>\n",
              "      <td>Salaried</td>\n",
              "      <td>0.0</td>\n",
              "      <td>48874.77</td>\n",
              "      <td>5445148.31</td>\n",
              "      <td>0yrs 10mon</td>\n",
              "      <td>0</td>\n",
              "    </tr>\n",
              "  </tbody>\n",
              "</table>\n",
              "</div>"
            ],
            "text/plain": [
              "   customer_id customer_bod  gender  ...      income      tenure default\n",
              "0         8300   1993-08-17  Female  ...  5015120.75   4yrs 4mon       0\n",
              "1          672   2007-12-17  Female  ...  2266076.58   4yrs 1mon       0\n",
              "2         5670   2000-02-05  Female  ...  1779347.34   0yrs 9mon       0\n",
              "3         2975   1999-11-16  Female  ...  2014246.24   1yrs 8mon       0\n",
              "4         3883   1977-08-18    Male  ...  5445148.31  0yrs 10mon       0\n",
              "\n",
              "[5 rows x 11 columns]"
            ]
          },
          "metadata": {},
          "execution_count": 167
        }
      ]
    },
    {
      "cell_type": "code",
      "metadata": {
        "colab": {
          "base_uri": "https://localhost:8080/"
        },
        "id": "x6PQyhNAvtJB",
        "outputId": "510695c8-c18f-415f-dee6-e4fd70e81676"
      },
      "source": [
        "# melihat informasi dalam data\n",
        "data.info()"
      ],
      "execution_count": 168,
      "outputs": [
        {
          "output_type": "stream",
          "name": "stdout",
          "text": [
            "<class 'pandas.core.frame.DataFrame'>\n",
            "RangeIndex: 3693 entries, 0 to 3692\n",
            "Data columns (total 11 columns):\n",
            " #   Column        Non-Null Count  Dtype  \n",
            "---  ------        --------------  -----  \n",
            " 0   customer_id   3693 non-null   int64  \n",
            " 1   customer_bod  3693 non-null   object \n",
            " 2   gender        3385 non-null   object \n",
            " 3   phone_flag    3693 non-null   float64\n",
            " 4   student       3693 non-null   object \n",
            " 5   employment    2701 non-null   object \n",
            " 6   credit_card   3682 non-null   float64\n",
            " 7   balance       3693 non-null   float64\n",
            " 8   income        3693 non-null   float64\n",
            " 9   tenure        3693 non-null   object \n",
            " 10  default       3693 non-null   int64  \n",
            "dtypes: float64(4), int64(2), object(5)\n",
            "memory usage: 317.5+ KB\n"
          ]
        }
      ]
    },
    {
      "cell_type": "code",
      "metadata": {
        "colab": {
          "base_uri": "https://localhost:8080/"
        },
        "id": "gNnpdjIXv9zV",
        "outputId": "ecf6e77f-0b0a-44ce-9325-e219beff5705"
      },
      "source": [
        "# data shape\n",
        "data.shape"
      ],
      "execution_count": 169,
      "outputs": [
        {
          "output_type": "execute_result",
          "data": {
            "text/plain": [
              "(3693, 11)"
            ]
          },
          "metadata": {},
          "execution_count": 169
        }
      ]
    },
    {
      "cell_type": "markdown",
      "metadata": {
        "id": "Ho9r6928wdhV"
      },
      "source": [
        "# Exploratory Data Analysis"
      ]
    },
    {
      "cell_type": "markdown",
      "metadata": {
        "id": "qo9Vqkmxyr6o"
      },
      "source": [
        "## Dependent Variable"
      ]
    },
    {
      "cell_type": "code",
      "metadata": {
        "id": "6zp_buvCxUaI"
      },
      "source": [
        "# Dependent Variable\n",
        "y = data['default']\n",
        "y_no = y[y=='0']\n",
        "y_yes = y[y=='1']\n",
        "\n",
        "# Independent Variable\n",
        "X = data.drop('default', axis = 1)\n",
        "x_no = data[data['default']=='No'].drop(['customer_id', 'default'], axis = 1)\n",
        "x_yes = data[data['default']=='Yes'].drop(['customer_id', 'default'], axis = 1)"
      ],
      "execution_count": 170,
      "outputs": []
    },
    {
      "cell_type": "code",
      "metadata": {
        "colab": {
          "base_uri": "https://localhost:8080/",
          "height": 336
        },
        "id": "-1HvR8f4wEaK",
        "outputId": "02a0b4a7-86ea-4f68-baad-613ffec9916d"
      },
      "source": [
        "default = y.value_counts()\n",
        "default.plot.pie(figsize=(5,5), autopct='%1.2F%%', startangle=90)\n",
        "\n",
        "plt.title('Pie Chart : default')\n",
        "plt.show() \n",
        "\n",
        "''' Terlihat data yang tidak seimbang antara kategori 1 dengan kategori 0'''\n",
        "print()"
      ],
      "execution_count": 171,
      "outputs": [
        {
          "output_type": "display_data",
          "data": {
            "image/png": "[encoded data removed]",
            "text/plain": [
              "<Figure size 360x360 with 1 Axes>"
            ]
          },
          "metadata": {}
        },
        {
          "output_type": "stream",
          "name": "stdout",
          "text": [
            "\n"
          ]
        }
      ]
    },
    {
      "cell_type": "markdown",
      "metadata": {
        "id": "wVRA2elsyucb"
      },
      "source": [
        "## Independent Variables"
      ]
    },
    {
      "cell_type": "markdown",
      "metadata": {
        "id": "k1n7w0Ja8o3r"
      },
      "source": [
        "### Distribution of Gender"
      ]
    },
    {
      "cell_type": "code",
      "metadata": {
        "colab": {
          "base_uri": "https://localhost:8080/",
          "height": 316
        },
        "id": "rfWmt6At7-qH",
        "outputId": "f31b8d38-c4ca-4d90-bfd3-341897d7a204"
      },
      "source": [
        "gender = data['gender'].value_counts()\n",
        "label = gender.index\n",
        "\n",
        "plt.pie(gender, labels=label, autopct='%.2f%%')\n",
        "#plt.legend(loc='upper left')\n",
        "plt.title('gender')\n",
        "plt.show()\n",
        "print(gender)"
      ],
      "execution_count": 172,
      "outputs": [
        {
          "output_type": "display_data",
          "data": {
            "image/png": "[encoded data removed]",
            "text/plain": [
              "<Figure size 432x288 with 1 Axes>"
            ]
          },
          "metadata": {}
        },
        {
          "output_type": "stream",
          "name": "stdout",
          "text": [
            "Female    1713\n",
            "Male      1672\n",
            "Name: gender, dtype: int64\n"
          ]
        }
      ]
    },
    {
      "cell_type": "markdown",
      "metadata": {
        "id": "1j77Lm6f9eib"
      },
      "source": [
        "### Distribution of student"
      ]
    },
    {
      "cell_type": "code",
      "metadata": {
        "colab": {
          "base_uri": "https://localhost:8080/",
          "height": 316
        },
        "id": "aMZfjcQs84a4",
        "outputId": "317795ff-8e92-431b-b897-accdea5f301a"
      },
      "source": [
        "student = data['student'].value_counts()\n",
        "label = student.index\n",
        "\n",
        "plt.pie(student, labels=label, autopct='%.2f%%')\n",
        "#plt.legend(loc='upper left')\n",
        "plt.title('student')\n",
        "plt.show()\n",
        "print(student)"
      ],
      "execution_count": 173,
      "outputs": [
        {
          "output_type": "display_data",
          "data": {
            "image/png": "[encoded data removed]",
            "text/plain": [
              "<Figure size 432x288 with 1 Axes>"
            ]
          },
          "metadata": {}
        },
        {
          "output_type": "stream",
          "name": "stdout",
          "text": [
            "No     2577\n",
            "Yes    1116\n",
            "Name: student, dtype: int64\n"
          ]
        }
      ]
    },
    {
      "cell_type": "markdown",
      "metadata": {
        "id": "sLp8o7xa_E1N"
      },
      "source": [
        "### Distribution of employment"
      ]
    },
    {
      "cell_type": "code",
      "metadata": {
        "colab": {
          "base_uri": "https://localhost:8080/",
          "height": 316
        },
        "id": "E2Y5yGuq-trG",
        "outputId": "3558d195-f974-4413-aa58-050444cc403f"
      },
      "source": [
        "employment = data['employment'].value_counts()\n",
        "label = employment.index\n",
        "\n",
        "plt.pie(employment, labels=label, autopct='%.2f%%')\n",
        "#plt.legend(loc='upper left')\n",
        "plt.title('employment')\n",
        "plt.show()\n",
        "print(student)"
      ],
      "execution_count": 174,
      "outputs": [
        {
          "output_type": "display_data",
          "data": {
            "image/png": "[encoded data removed]",
            "text/plain": [
              "<Figure size 432x288 with 1 Axes>"
            ]
          },
          "metadata": {}
        },
        {
          "output_type": "stream",
          "name": "stdout",
          "text": [
            "No     2577\n",
            "Yes    1116\n",
            "Name: student, dtype: int64\n"
          ]
        }
      ]
    },
    {
      "cell_type": "markdown",
      "metadata": {
        "id": "M94Vc3TJjSr8"
      },
      "source": [
        "### Heatmap"
      ]
    },
    {
      "cell_type": "code",
      "metadata": {
        "colab": {
          "base_uri": "https://localhost:8080/",
          "height": 889
        },
        "id": "1ejYc3i1jDG9",
        "outputId": "19658f86-aa9a-44af-e6cf-a4f633f95631"
      },
      "source": [
        "plt.figure(figsize=(20,15))\n",
        "sns.heatmap(data.corr(), annot=True, )\n",
        "plt.title(\"Heatmap\", fontsize = 25);\n",
        "plt.show()"
      ],
      "execution_count": 175,
      "outputs": [
        {
          "output_type": "display_data",
          "data": {
            "image/png": "[encoded data removed]",
            "text/plain": [
              "<Figure size 1440x1080 with 2 Axes>"
            ]
          },
          "metadata": {
            "needs_background": "light"
          }
        }
      ]
    },
    {
      "cell_type": "markdown",
      "metadata": {
        "id": "xUKZexrv_UCv"
      },
      "source": [
        "# Data Preprocesing"
      ]
    },
    {
      "cell_type": "markdown",
      "metadata": {
        "id": "YBr0iIbSdVfC"
      },
      "source": [
        "## Feature Engineering"
      ]
    },
    {
      "cell_type": "markdown",
      "metadata": {
        "id": "o4fNWoFe8ijr"
      },
      "source": [
        "### Change DOB to Age by Days"
      ]
    },
    {
      "cell_type": "code",
      "metadata": {
        "id": "WkNvbcgCxl_X"
      },
      "source": [
        "from datetime import datetime, date\n",
        "data['customer_bod'] = pd.to_datetime(data['customer_bod'])\n",
        "\n",
        "data['age'] = data['customer_bod'].apply(lambda x: 2021-x.year)"
      ],
      "execution_count": 176,
      "outputs": []
    },
    {
      "cell_type": "code",
      "metadata": {
        "id": "eWE0C9-o7f76"
      },
      "source": [
        "data.drop('customer_bod', axis = 1, inplace= True)"
      ],
      "execution_count": 177,
      "outputs": []
    },
    {
      "cell_type": "code",
      "metadata": {
        "colab": {
          "base_uri": "https://localhost:8080/",
          "height": 206
        },
        "id": "_XVYiTUW5Jpy",
        "outputId": "55eafddd-3fd5-4975-9809-9dee98956726"
      },
      "source": [
        "data.head()"
      ],
      "execution_count": 178,
      "outputs": [
        {
          "output_type": "execute_result",
          "data": {
            "text/html": [
              "<div>\n",
              "<style scoped>\n",
              "    .dataframe tbody tr th:only-of-type {\n",
              "        vertical-align: middle;\n",
              "    }\n",
              "\n",
              "    .dataframe tbody tr th {\n",
              "        vertical-align: top;\n",
              "    }\n",
              "\n",
              "    .dataframe thead th {\n",
              "        text-align: right;\n",
              "    }\n",
              "</style>\n",
              "<table border=\"1\" class=\"dataframe\">\n",
              "  <thead>\n",
              "    <tr style=\"text-align: right;\">\n",
              "      <th></th>\n",
              "      <th>customer_id</th>\n",
              "      <th>gender</th>\n",
              "      <th>phone_flag</th>\n",
              "      <th>student</th>\n",
              "      <th>employment</th>\n",
              "      <th>credit_card</th>\n",
              "      <th>balance</th>\n",
              "      <th>income</th>\n",
              "      <th>tenure</th>\n",
              "      <th>default</th>\n",
              "      <th>age</th>\n",
              "    </tr>\n",
              "  </thead>\n",
              "  <tbody>\n",
              "    <tr>\n",
              "      <th>0</th>\n",
              "      <td>8300</td>\n",
              "      <td>Female</td>\n",
              "      <td>1.0</td>\n",
              "      <td>No</td>\n",
              "      <td>Self Employed</td>\n",
              "      <td>1.0</td>\n",
              "      <td>87104.12</td>\n",
              "      <td>5015120.75</td>\n",
              "      <td>4yrs 4mon</td>\n",
              "      <td>0</td>\n",
              "      <td>28</td>\n",
              "    </tr>\n",
              "    <tr>\n",
              "      <th>1</th>\n",
              "      <td>672</td>\n",
              "      <td>Female</td>\n",
              "      <td>1.0</td>\n",
              "      <td>Yes</td>\n",
              "      <td>NaN</td>\n",
              "      <td>0.0</td>\n",
              "      <td>89236.34</td>\n",
              "      <td>2266076.58</td>\n",
              "      <td>4yrs 1mon</td>\n",
              "      <td>0</td>\n",
              "      <td>14</td>\n",
              "    </tr>\n",
              "    <tr>\n",
              "      <th>2</th>\n",
              "      <td>5670</td>\n",
              "      <td>Female</td>\n",
              "      <td>1.0</td>\n",
              "      <td>Yes</td>\n",
              "      <td>NaN</td>\n",
              "      <td>0.0</td>\n",
              "      <td>171553.12</td>\n",
              "      <td>1779347.34</td>\n",
              "      <td>0yrs 9mon</td>\n",
              "      <td>0</td>\n",
              "      <td>21</td>\n",
              "    </tr>\n",
              "    <tr>\n",
              "      <th>3</th>\n",
              "      <td>2975</td>\n",
              "      <td>Female</td>\n",
              "      <td>1.0</td>\n",
              "      <td>Yes</td>\n",
              "      <td>NaN</td>\n",
              "      <td>0.0</td>\n",
              "      <td>85979.04</td>\n",
              "      <td>2014246.24</td>\n",
              "      <td>1yrs 8mon</td>\n",
              "      <td>0</td>\n",
              "      <td>22</td>\n",
              "    </tr>\n",
              "    <tr>\n",
              "      <th>4</th>\n",
              "      <td>3883</td>\n",
              "      <td>Male</td>\n",
              "      <td>1.0</td>\n",
              "      <td>No</td>\n",
              "      <td>Salaried</td>\n",
              "      <td>0.0</td>\n",
              "      <td>48874.77</td>\n",
              "      <td>5445148.31</td>\n",
              "      <td>0yrs 10mon</td>\n",
              "      <td>0</td>\n",
              "      <td>44</td>\n",
              "    </tr>\n",
              "  </tbody>\n",
              "</table>\n",
              "</div>"
            ],
            "text/plain": [
              "   customer_id  gender  phone_flag  ...      tenure default  age\n",
              "0         8300  Female         1.0  ...   4yrs 4mon       0   28\n",
              "1          672  Female         1.0  ...   4yrs 1mon       0   14\n",
              "2         5670  Female         1.0  ...   0yrs 9mon       0   21\n",
              "3         2975  Female         1.0  ...   1yrs 8mon       0   22\n",
              "4         3883    Male         1.0  ...  0yrs 10mon       0   44\n",
              "\n",
              "[5 rows x 11 columns]"
            ]
          },
          "metadata": {},
          "execution_count": 178
        }
      ]
    },
    {
      "cell_type": "markdown",
      "metadata": {
        "id": "qT__RF2UdiyC"
      },
      "source": [
        "### Change Tenure to Numerical Value"
      ]
    },
    {
      "cell_type": "code",
      "metadata": {
        "id": "Fik4QESPdYcv"
      },
      "source": [
        "def extract_month(given_tenure):\n",
        "  \"\"\"\n",
        "  input : get each tenure from series\n",
        "  output : monthly value\n",
        "  example :\n",
        "    - input : 4yrs 4 mon\n",
        "    - output : 4(12) + 4 = 52\n",
        "  \"\"\"\n",
        "  year, month = 12, 0\n",
        "  year += int(given_tenure.split()[0].replace('yrs', ''))\n",
        "  month += int(given_tenure.split()[1].replace('mon', ''))\n",
        "  # result\n",
        "  return year+month"
      ],
      "execution_count": 179,
      "outputs": []
    },
    {
      "cell_type": "code",
      "metadata": {
        "colab": {
          "base_uri": "https://localhost:8080/",
          "height": 206
        },
        "id": "3PLZ6gYIdyLg",
        "outputId": "29f8bcb6-10b8-4ef1-bbde-2fd7fc053050"
      },
      "source": [
        "# create monthly from tenure feature\n",
        "data['monthly tenure'] = data['tenure'].apply(lambda x: extract_month(x))\n",
        "# remove tenure feature\n",
        "data = data.drop('tenure', axis = 1)\n",
        "# check\n",
        "data.head()"
      ],
      "execution_count": 180,
      "outputs": [
        {
          "output_type": "execute_result",
          "data": {
            "text/html": [
              "<div>\n",
              "<style scoped>\n",
              "    .dataframe tbody tr th:only-of-type {\n",
              "        vertical-align: middle;\n",
              "    }\n",
              "\n",
              "    .dataframe tbody tr th {\n",
              "        vertical-align: top;\n",
              "    }\n",
              "\n",
              "    .dataframe thead th {\n",
              "        text-align: right;\n",
              "    }\n",
              "</style>\n",
              "<table border=\"1\" class=\"dataframe\">\n",
              "  <thead>\n",
              "    <tr style=\"text-align: right;\">\n",
              "      <th></th>\n",
              "      <th>customer_id</th>\n",
              "      <th>gender</th>\n",
              "      <th>phone_flag</th>\n",
              "      <th>student</th>\n",
              "      <th>employment</th>\n",
              "      <th>credit_card</th>\n",
              "      <th>balance</th>\n",
              "      <th>income</th>\n",
              "      <th>default</th>\n",
              "      <th>age</th>\n",
              "      <th>monthly tenure</th>\n",
              "    </tr>\n",
              "  </thead>\n",
              "  <tbody>\n",
              "    <tr>\n",
              "      <th>0</th>\n",
              "      <td>8300</td>\n",
              "      <td>Female</td>\n",
              "      <td>1.0</td>\n",
              "      <td>No</td>\n",
              "      <td>Self Employed</td>\n",
              "      <td>1.0</td>\n",
              "      <td>87104.12</td>\n",
              "      <td>5015120.75</td>\n",
              "      <td>0</td>\n",
              "      <td>28</td>\n",
              "      <td>20</td>\n",
              "    </tr>\n",
              "    <tr>\n",
              "      <th>1</th>\n",
              "      <td>672</td>\n",
              "      <td>Female</td>\n",
              "      <td>1.0</td>\n",
              "      <td>Yes</td>\n",
              "      <td>NaN</td>\n",
              "      <td>0.0</td>\n",
              "      <td>89236.34</td>\n",
              "      <td>2266076.58</td>\n",
              "      <td>0</td>\n",
              "      <td>14</td>\n",
              "      <td>17</td>\n",
              "    </tr>\n",
              "    <tr>\n",
              "      <th>2</th>\n",
              "      <td>5670</td>\n",
              "      <td>Female</td>\n",
              "      <td>1.0</td>\n",
              "      <td>Yes</td>\n",
              "      <td>NaN</td>\n",
              "      <td>0.0</td>\n",
              "      <td>171553.12</td>\n",
              "      <td>1779347.34</td>\n",
              "      <td>0</td>\n",
              "      <td>21</td>\n",
              "      <td>21</td>\n",
              "    </tr>\n",
              "    <tr>\n",
              "      <th>3</th>\n",
              "      <td>2975</td>\n",
              "      <td>Female</td>\n",
              "      <td>1.0</td>\n",
              "      <td>Yes</td>\n",
              "      <td>NaN</td>\n",
              "      <td>0.0</td>\n",
              "      <td>85979.04</td>\n",
              "      <td>2014246.24</td>\n",
              "      <td>0</td>\n",
              "      <td>22</td>\n",
              "      <td>21</td>\n",
              "    </tr>\n",
              "    <tr>\n",
              "      <th>4</th>\n",
              "      <td>3883</td>\n",
              "      <td>Male</td>\n",
              "      <td>1.0</td>\n",
              "      <td>No</td>\n",
              "      <td>Salaried</td>\n",
              "      <td>0.0</td>\n",
              "      <td>48874.77</td>\n",
              "      <td>5445148.31</td>\n",
              "      <td>0</td>\n",
              "      <td>44</td>\n",
              "      <td>22</td>\n",
              "    </tr>\n",
              "  </tbody>\n",
              "</table>\n",
              "</div>"
            ],
            "text/plain": [
              "   customer_id  gender  phone_flag  ... default age  monthly tenure\n",
              "0         8300  Female         1.0  ...       0  28              20\n",
              "1          672  Female         1.0  ...       0  14              17\n",
              "2         5670  Female         1.0  ...       0  21              21\n",
              "3         2975  Female         1.0  ...       0  22              21\n",
              "4         3883    Male         1.0  ...       0  44              22\n",
              "\n",
              "[5 rows x 11 columns]"
            ]
          },
          "metadata": {},
          "execution_count": 180
        }
      ]
    },
    {
      "cell_type": "code",
      "metadata": {
        "colab": {
          "base_uri": "https://localhost:8080/",
          "height": 438
        },
        "id": "YEM5b7yMh0kD",
        "outputId": "e080c8c8-291e-424b-9d54-2d61409b3bed"
      },
      "source": [
        "# distribution of target variable 'monthly tenure'\n",
        "sns.displot(data=data, x='monthly tenure')\n",
        "\n",
        "average = data['monthly tenure'].mean()\n",
        "median = data['monthly tenure'].median()\n",
        "mode = data['monthly tenure'].mode()\n",
        "std = data['monthly tenure'].std()\n",
        "\n",
        "plt.axvline(average, color='r', linestyle='solid', linewidth=3, label='Mean')\n",
        "plt.axvline(median, color='y', linestyle='dotted', linewidth=3, label='Median')\n",
        "plt.axvline(mode[0], color='purple', linestyle='dashed', linewidth=3, label='Mode')\n",
        "\n",
        "plt.show()\n",
        "print('Average : ', average)\n",
        "print('Standard deviation : ', std)\n",
        "print('Median : ', median)\n",
        "print('Mode : ', int(mode))"
      ],
      "execution_count": 181,
      "outputs": [
        {
          "output_type": "display_data",
          "data": {
            "image/png": "[encoded data removed]",
            "text/plain": [
              "<Figure size 360x360 with 1 Axes>"
            ]
          },
          "metadata": {
            "needs_background": "light"
          }
        },
        {
          "output_type": "stream",
          "name": "stdout",
          "text": [
            "Average :  18.821554291903603\n",
            "Standard deviation :  3.536966379491657\n",
            "Median :  19.0\n",
            "Mode :  17\n"
          ]
        }
      ]
    },
    {
      "cell_type": "markdown",
      "metadata": {
        "id": "t70tyuZm_ekG"
      },
      "source": [
        "## Drop Duplicates"
      ]
    },
    {
      "cell_type": "code",
      "metadata": {
        "colab": {
          "base_uri": "https://localhost:8080/",
          "height": 424
        },
        "id": "PKPmoxpo_Pu3",
        "outputId": "64bd282e-61f3-4171-f352-3ac4363535f4"
      },
      "source": [
        "data.drop_duplicates() # Tidak ada data duplicate"
      ],
      "execution_count": 182,
      "outputs": [
        {
          "output_type": "execute_result",
          "data": {
            "text/html": [
              "<div>\n",
              "<style scoped>\n",
              "    .dataframe tbody tr th:only-of-type {\n",
              "        vertical-align: middle;\n",
              "    }\n",
              "\n",
              "    .dataframe tbody tr th {\n",
              "        vertical-align: top;\n",
              "    }\n",
              "\n",
              "    .dataframe thead th {\n",
              "        text-align: right;\n",
              "    }\n",
              "</style>\n",
              "<table border=\"1\" class=\"dataframe\">\n",
              "  <thead>\n",
              "    <tr style=\"text-align: right;\">\n",
              "      <th></th>\n",
              "      <th>customer_id</th>\n",
              "      <th>gender</th>\n",
              "      <th>phone_flag</th>\n",
              "      <th>student</th>\n",
              "      <th>employment</th>\n",
              "      <th>credit_card</th>\n",
              "      <th>balance</th>\n",
              "      <th>income</th>\n",
              "      <th>default</th>\n",
              "      <th>age</th>\n",
              "      <th>monthly tenure</th>\n",
              "    </tr>\n",
              "  </thead>\n",
              "  <tbody>\n",
              "    <tr>\n",
              "      <th>0</th>\n",
              "      <td>8300</td>\n",
              "      <td>Female</td>\n",
              "      <td>1.0</td>\n",
              "      <td>No</td>\n",
              "      <td>Self Employed</td>\n",
              "      <td>1.0</td>\n",
              "      <td>87104.12</td>\n",
              "      <td>5015120.75</td>\n",
              "      <td>0</td>\n",
              "      <td>28</td>\n",
              "      <td>20</td>\n",
              "    </tr>\n",
              "    <tr>\n",
              "      <th>1</th>\n",
              "      <td>672</td>\n",
              "      <td>Female</td>\n",
              "      <td>1.0</td>\n",
              "      <td>Yes</td>\n",
              "      <td>NaN</td>\n",
              "      <td>0.0</td>\n",
              "      <td>89236.34</td>\n",
              "      <td>2266076.58</td>\n",
              "      <td>0</td>\n",
              "      <td>14</td>\n",
              "      <td>17</td>\n",
              "    </tr>\n",
              "    <tr>\n",
              "      <th>2</th>\n",
              "      <td>5670</td>\n",
              "      <td>Female</td>\n",
              "      <td>1.0</td>\n",
              "      <td>Yes</td>\n",
              "      <td>NaN</td>\n",
              "      <td>0.0</td>\n",
              "      <td>171553.12</td>\n",
              "      <td>1779347.34</td>\n",
              "      <td>0</td>\n",
              "      <td>21</td>\n",
              "      <td>21</td>\n",
              "    </tr>\n",
              "    <tr>\n",
              "      <th>3</th>\n",
              "      <td>2975</td>\n",
              "      <td>Female</td>\n",
              "      <td>1.0</td>\n",
              "      <td>Yes</td>\n",
              "      <td>NaN</td>\n",
              "      <td>0.0</td>\n",
              "      <td>85979.04</td>\n",
              "      <td>2014246.24</td>\n",
              "      <td>0</td>\n",
              "      <td>22</td>\n",
              "      <td>21</td>\n",
              "    </tr>\n",
              "    <tr>\n",
              "      <th>4</th>\n",
              "      <td>3883</td>\n",
              "      <td>Male</td>\n",
              "      <td>1.0</td>\n",
              "      <td>No</td>\n",
              "      <td>Salaried</td>\n",
              "      <td>0.0</td>\n",
              "      <td>48874.77</td>\n",
              "      <td>5445148.31</td>\n",
              "      <td>0</td>\n",
              "      <td>44</td>\n",
              "      <td>22</td>\n",
              "    </tr>\n",
              "    <tr>\n",
              "      <th>...</th>\n",
              "      <td>...</td>\n",
              "      <td>...</td>\n",
              "      <td>...</td>\n",
              "      <td>...</td>\n",
              "      <td>...</td>\n",
              "      <td>...</td>\n",
              "      <td>...</td>\n",
              "      <td>...</td>\n",
              "      <td>...</td>\n",
              "      <td>...</td>\n",
              "      <td>...</td>\n",
              "    </tr>\n",
              "    <tr>\n",
              "      <th>3688</th>\n",
              "      <td>5661</td>\n",
              "      <td>NaN</td>\n",
              "      <td>0.0</td>\n",
              "      <td>No</td>\n",
              "      <td>Salaried</td>\n",
              "      <td>0.0</td>\n",
              "      <td>144844.88</td>\n",
              "      <td>5060638.68</td>\n",
              "      <td>0</td>\n",
              "      <td>20</td>\n",
              "      <td>21</td>\n",
              "    </tr>\n",
              "    <tr>\n",
              "      <th>3689</th>\n",
              "      <td>219</td>\n",
              "      <td>Female</td>\n",
              "      <td>1.0</td>\n",
              "      <td>Yes</td>\n",
              "      <td>Self Employed</td>\n",
              "      <td>0.0</td>\n",
              "      <td>192978.31</td>\n",
              "      <td>2682965.60</td>\n",
              "      <td>0</td>\n",
              "      <td>17</td>\n",
              "      <td>19</td>\n",
              "    </tr>\n",
              "    <tr>\n",
              "      <th>3690</th>\n",
              "      <td>7289</td>\n",
              "      <td>Male</td>\n",
              "      <td>1.0</td>\n",
              "      <td>Yes</td>\n",
              "      <td>NaN</td>\n",
              "      <td>0.0</td>\n",
              "      <td>141840.01</td>\n",
              "      <td>2172340.05</td>\n",
              "      <td>0</td>\n",
              "      <td>19</td>\n",
              "      <td>13</td>\n",
              "    </tr>\n",
              "    <tr>\n",
              "      <th>3691</th>\n",
              "      <td>698</td>\n",
              "      <td>Male</td>\n",
              "      <td>1.0</td>\n",
              "      <td>No</td>\n",
              "      <td>Salaried</td>\n",
              "      <td>0.0</td>\n",
              "      <td>69477.43</td>\n",
              "      <td>5556566.10</td>\n",
              "      <td>0</td>\n",
              "      <td>43</td>\n",
              "      <td>25</td>\n",
              "    </tr>\n",
              "    <tr>\n",
              "      <th>3692</th>\n",
              "      <td>3581</td>\n",
              "      <td>Female</td>\n",
              "      <td>1.0</td>\n",
              "      <td>Yes</td>\n",
              "      <td>NaN</td>\n",
              "      <td>0.0</td>\n",
              "      <td>146325.20</td>\n",
              "      <td>1363418.86</td>\n",
              "      <td>0</td>\n",
              "      <td>21</td>\n",
              "      <td>21</td>\n",
              "    </tr>\n",
              "  </tbody>\n",
              "</table>\n",
              "<p>3693 rows × 11 columns</p>\n",
              "</div>"
            ],
            "text/plain": [
              "      customer_id  gender  phone_flag  ... default age  monthly tenure\n",
              "0            8300  Female         1.0  ...       0  28              20\n",
              "1             672  Female         1.0  ...       0  14              17\n",
              "2            5670  Female         1.0  ...       0  21              21\n",
              "3            2975  Female         1.0  ...       0  22              21\n",
              "4            3883    Male         1.0  ...       0  44              22\n",
              "...           ...     ...         ...  ...     ...  ..             ...\n",
              "3688         5661     NaN         0.0  ...       0  20              21\n",
              "3689          219  Female         1.0  ...       0  17              19\n",
              "3690         7289    Male         1.0  ...       0  19              13\n",
              "3691          698    Male         1.0  ...       0  43              25\n",
              "3692         3581  Female         1.0  ...       0  21              21\n",
              "\n",
              "[3693 rows x 11 columns]"
            ]
          },
          "metadata": {},
          "execution_count": 182
        }
      ]
    },
    {
      "cell_type": "markdown",
      "metadata": {
        "id": "9G4o6ihQ_rJo"
      },
      "source": [
        "## Finding Missing Value"
      ]
    },
    {
      "cell_type": "code",
      "metadata": {
        "colab": {
          "base_uri": "https://localhost:8080/"
        },
        "id": "_-xFj10b_jii",
        "outputId": "3352af0d-f3d6-49be-bf26-0ff1b3f74971"
      },
      "source": [
        "# Number of cases with NaN\n",
        "data.isnull().sum()"
      ],
      "execution_count": 183,
      "outputs": [
        {
          "output_type": "execute_result",
          "data": {
            "text/plain": [
              "customer_id         0\n",
              "gender            308\n",
              "phone_flag          0\n",
              "student             0\n",
              "employment        992\n",
              "credit_card        11\n",
              "balance             0\n",
              "income              0\n",
              "default             0\n",
              "age                 0\n",
              "monthly tenure      0\n",
              "dtype: int64"
            ]
          },
          "metadata": {},
          "execution_count": 183
        }
      ]
    },
    {
      "cell_type": "markdown",
      "metadata": {
        "id": "L8H1Bp57_-cF"
      },
      "source": [
        "### Data Imputation"
      ]
    },
    {
      "cell_type": "markdown",
      "metadata": {
        "id": "Dcvo79NIAL46"
      },
      "source": [
        "#### Gender"
      ]
    },
    {
      "cell_type": "code",
      "metadata": {
        "colab": {
          "base_uri": "https://localhost:8080/"
        },
        "id": "dw94Wwqw_z5l",
        "outputId": "df5b8720-b266-4f30-ff91-1822ee632eb1"
      },
      "source": [
        "# Missing Values (gender)\n",
        "data_gender = data['gender']\n",
        "data_gender.isnull().sum()"
      ],
      "execution_count": 184,
      "outputs": [
        {
          "output_type": "execute_result",
          "data": {
            "text/plain": [
              "308"
            ]
          },
          "metadata": {},
          "execution_count": 184
        }
      ]
    },
    {
      "cell_type": "code",
      "metadata": {
        "id": "iR9KRMlXAYVa"
      },
      "source": [
        "data_gender = data_gender.fillna(data_gender.mode()[0])"
      ],
      "execution_count": 185,
      "outputs": []
    },
    {
      "cell_type": "code",
      "metadata": {
        "id": "HWXrgi5eAKQ3"
      },
      "source": [
        "data['gender'] = data_gender.values"
      ],
      "execution_count": 186,
      "outputs": []
    },
    {
      "cell_type": "markdown",
      "metadata": {
        "id": "xLESjwp-AfWx"
      },
      "source": [
        "#### Employment"
      ]
    },
    {
      "cell_type": "code",
      "metadata": {
        "colab": {
          "base_uri": "https://localhost:8080/"
        },
        "id": "obBW_tcWAhmf",
        "outputId": "220661f7-fee3-47a4-d7ed-3c3919810202"
      },
      "source": [
        "# Missing Values (employment)\n",
        "data_employment = data['employment']\n",
        "data_employment.isnull().sum()"
      ],
      "execution_count": 187,
      "outputs": [
        {
          "output_type": "execute_result",
          "data": {
            "text/plain": [
              "992"
            ]
          },
          "metadata": {},
          "execution_count": 187
        }
      ]
    },
    {
      "cell_type": "code",
      "metadata": {
        "id": "AHK7_WP5AuQf"
      },
      "source": [
        "data_employment = data_employment.fillna(data_employment.mode()[0])"
      ],
      "execution_count": 188,
      "outputs": []
    },
    {
      "cell_type": "code",
      "metadata": {
        "id": "MF247miIAx_h"
      },
      "source": [
        "data['employment'] = data_employment.values"
      ],
      "execution_count": 189,
      "outputs": []
    },
    {
      "cell_type": "markdown",
      "metadata": {
        "id": "wCXNdpJuAzwf"
      },
      "source": [
        "#### Credit Card"
      ]
    },
    {
      "cell_type": "code",
      "metadata": {
        "id": "GzpUnOBpAzDT"
      },
      "source": [
        "# Missing Values (credit_card)\n",
        "data.loc[data['credit_card'].isnull(), 'credit_card'] = data['credit_card'].median()"
      ],
      "execution_count": 190,
      "outputs": []
    },
    {
      "cell_type": "markdown",
      "metadata": {
        "id": "mpnKN8WhBrkR"
      },
      "source": [
        "## Label Encoder"
      ]
    },
    {
      "cell_type": "code",
      "metadata": {
        "id": "w5Xts5i-Bu2B"
      },
      "source": [
        "from sklearn.preprocessing import LabelEncoder\n",
        "label = LabelEncoder()\n",
        "data['gender'] = label.fit_transform(data['gender'])"
      ],
      "execution_count": 191,
      "outputs": []
    },
    {
      "cell_type": "code",
      "metadata": {
        "id": "ncxFVTUaB2K6"
      },
      "source": [
        "data['student'] = label.fit_transform(data['student'])"
      ],
      "execution_count": 192,
      "outputs": []
    },
    {
      "cell_type": "code",
      "metadata": {
        "id": "7inN5MLnB6pi"
      },
      "source": [
        "data['employment'] = label.fit_transform(data['employment'])"
      ],
      "execution_count": 193,
      "outputs": []
    },
    {
      "cell_type": "code",
      "metadata": {
        "colab": {
          "base_uri": "https://localhost:8080/",
          "height": 206
        },
        "id": "QF9blcU7CHl3",
        "outputId": "c28f1523-d8bc-483b-86f9-4824d84d1812"
      },
      "source": [
        "data.head()"
      ],
      "execution_count": 194,
      "outputs": [
        {
          "output_type": "execute_result",
          "data": {
            "text/html": [
              "<div>\n",
              "<style scoped>\n",
              "    .dataframe tbody tr th:only-of-type {\n",
              "        vertical-align: middle;\n",
              "    }\n",
              "\n",
              "    .dataframe tbody tr th {\n",
              "        vertical-align: top;\n",
              "    }\n",
              "\n",
              "    .dataframe thead th {\n",
              "        text-align: right;\n",
              "    }\n",
              "</style>\n",
              "<table border=\"1\" class=\"dataframe\">\n",
              "  <thead>\n",
              "    <tr style=\"text-align: right;\">\n",
              "      <th></th>\n",
              "      <th>customer_id</th>\n",
              "      <th>gender</th>\n",
              "      <th>phone_flag</th>\n",
              "      <th>student</th>\n",
              "      <th>employment</th>\n",
              "      <th>credit_card</th>\n",
              "      <th>balance</th>\n",
              "      <th>income</th>\n",
              "      <th>default</th>\n",
              "      <th>age</th>\n",
              "      <th>monthly tenure</th>\n",
              "    </tr>\n",
              "  </thead>\n",
              "  <tbody>\n",
              "    <tr>\n",
              "      <th>0</th>\n",
              "      <td>8300</td>\n",
              "      <td>0</td>\n",
              "      <td>1.0</td>\n",
              "      <td>0</td>\n",
              "      <td>1</td>\n",
              "      <td>1.0</td>\n",
              "      <td>87104.12</td>\n",
              "      <td>5015120.75</td>\n",
              "      <td>0</td>\n",
              "      <td>28</td>\n",
              "      <td>20</td>\n",
              "    </tr>\n",
              "    <tr>\n",
              "      <th>1</th>\n",
              "      <td>672</td>\n",
              "      <td>0</td>\n",
              "      <td>1.0</td>\n",
              "      <td>1</td>\n",
              "      <td>0</td>\n",
              "      <td>0.0</td>\n",
              "      <td>89236.34</td>\n",
              "      <td>2266076.58</td>\n",
              "      <td>0</td>\n",
              "      <td>14</td>\n",
              "      <td>17</td>\n",
              "    </tr>\n",
              "    <tr>\n",
              "      <th>2</th>\n",
              "      <td>5670</td>\n",
              "      <td>0</td>\n",
              "      <td>1.0</td>\n",
              "      <td>1</td>\n",
              "      <td>0</td>\n",
              "      <td>0.0</td>\n",
              "      <td>171553.12</td>\n",
              "      <td>1779347.34</td>\n",
              "      <td>0</td>\n",
              "      <td>21</td>\n",
              "      <td>21</td>\n",
              "    </tr>\n",
              "    <tr>\n",
              "      <th>3</th>\n",
              "      <td>2975</td>\n",
              "      <td>0</td>\n",
              "      <td>1.0</td>\n",
              "      <td>1</td>\n",
              "      <td>0</td>\n",
              "      <td>0.0</td>\n",
              "      <td>85979.04</td>\n",
              "      <td>2014246.24</td>\n",
              "      <td>0</td>\n",
              "      <td>22</td>\n",
              "      <td>21</td>\n",
              "    </tr>\n",
              "    <tr>\n",
              "      <th>4</th>\n",
              "      <td>3883</td>\n",
              "      <td>1</td>\n",
              "      <td>1.0</td>\n",
              "      <td>0</td>\n",
              "      <td>0</td>\n",
              "      <td>0.0</td>\n",
              "      <td>48874.77</td>\n",
              "      <td>5445148.31</td>\n",
              "      <td>0</td>\n",
              "      <td>44</td>\n",
              "      <td>22</td>\n",
              "    </tr>\n",
              "  </tbody>\n",
              "</table>\n",
              "</div>"
            ],
            "text/plain": [
              "   customer_id  gender  phone_flag  ...  default  age  monthly tenure\n",
              "0         8300       0         1.0  ...        0   28              20\n",
              "1          672       0         1.0  ...        0   14              17\n",
              "2         5670       0         1.0  ...        0   21              21\n",
              "3         2975       0         1.0  ...        0   22              21\n",
              "4         3883       1         1.0  ...        0   44              22\n",
              "\n",
              "[5 rows x 11 columns]"
            ]
          },
          "metadata": {},
          "execution_count": 194
        }
      ]
    },
    {
      "cell_type": "markdown",
      "metadata": {
        "id": "6RIb5_tSjjtB"
      },
      "source": [
        "## Feature Selection"
      ]
    },
    {
      "cell_type": "markdown",
      "metadata": {
        "id": "sNy8GzM7jprz"
      },
      "source": [
        "### Numerical Feature"
      ]
    },
    {
      "cell_type": "markdown",
      "metadata": {
        "id": "q5Cmt5QXjstR"
      },
      "source": [
        "#### Using Anova Testing"
      ]
    },
    {
      "cell_type": "code",
      "metadata": {
        "id": "yMMBpoSyjn1p"
      },
      "source": [
        "X_num = data[['balance', 'income', 'age', 'monthly tenure']]"
      ],
      "execution_count": 195,
      "outputs": []
    },
    {
      "cell_type": "code",
      "metadata": {
        "id": "hGdb_7kdjym7"
      },
      "source": [
        "from sklearn.feature_selection import SelectKBest, mutual_info_classif, f_classif"
      ],
      "execution_count": 196,
      "outputs": []
    },
    {
      "cell_type": "code",
      "metadata": {
        "id": "_-wv3rEbj0xp"
      },
      "source": [
        "MIC_anova = SelectKBest(score_func=f_classif, k='all')"
      ],
      "execution_count": 197,
      "outputs": []
    },
    {
      "cell_type": "code",
      "metadata": {
        "colab": {
          "base_uri": "https://localhost:8080/"
        },
        "id": "-4e4eubqj2LV",
        "outputId": "caeecc67-aa2b-4f05-9db4-a2f2f1cbbfa1"
      },
      "source": [
        "MIC_anova.fit(X_num, y)"
      ],
      "execution_count": 198,
      "outputs": [
        {
          "output_type": "execute_result",
          "data": {
            "text/plain": [
              "SelectKBest(k='all')"
            ]
          },
          "metadata": {},
          "execution_count": 198
        }
      ]
    },
    {
      "cell_type": "code",
      "metadata": {
        "colab": {
          "base_uri": "https://localhost:8080/"
        },
        "id": "dc4DZD9yj4Bj",
        "outputId": "b4cabbf7-01d1-4f7f-b9f1-c1e1c6d8a75c"
      },
      "source": [
        "feature_MI_pvalue = pd.Series(MIC_anova.pvalues_, index = X_num.columns)\n",
        "feature_MI_pvalue.round(4).sort_values(ascending = False)"
      ],
      "execution_count": 199,
      "outputs": [
        {
          "output_type": "execute_result",
          "data": {
            "text/plain": [
              "income            0.0995\n",
              "monthly tenure    0.0234\n",
              "age               0.0000\n",
              "balance           0.0000\n",
              "dtype: float64"
            ]
          },
          "metadata": {},
          "execution_count": 199
        }
      ]
    },
    {
      "cell_type": "markdown",
      "metadata": {
        "id": "Zg1iNlGgkIGu"
      },
      "source": [
        "Berdasarkan **P-value** yang diperoleh dari pengujian ANOVA di atas, maka dapat disimpulkan bahwa semua variabel numerik yang akan digunakan ternyata mempunyai pengaruh yang signifikan terhadap default atau tidaknta credit tersebut."
      ]
    },
    {
      "cell_type": "markdown",
      "metadata": {
        "id": "hTqjJApKkdTW"
      },
      "source": [
        "### Categorical Feature"
      ]
    },
    {
      "cell_type": "code",
      "metadata": {
        "id": "_1OMK8IFkcvq"
      },
      "source": [
        "from sklearn.model_selection import train_test_split\n",
        "from sklearn.preprocessing import LabelEncoder\n",
        "from sklearn.preprocessing import OrdinalEncoder\n",
        "from sklearn.feature_selection import SelectKBest\n",
        "from sklearn.feature_selection import chi2\n",
        "from matplotlib import pyplot"
      ],
      "execution_count": 200,
      "outputs": []
    },
    {
      "cell_type": "code",
      "metadata": {
        "id": "3uO_lBQYkwO8"
      },
      "source": [
        "# data Kategorik\n",
        "X_cat = data[['gender', 'phone_flag', 'student','employment','credit_card']].astype(\"category\")"
      ],
      "execution_count": 201,
      "outputs": []
    },
    {
      "cell_type": "code",
      "metadata": {
        "colab": {
          "base_uri": "https://localhost:8080/"
        },
        "id": "sKcYttNnlG9k",
        "outputId": "512f32c5-5b32-48c6-c06d-116bc27998ce"
      },
      "source": [
        "X_cat.info()"
      ],
      "execution_count": 202,
      "outputs": [
        {
          "output_type": "stream",
          "name": "stdout",
          "text": [
            "<class 'pandas.core.frame.DataFrame'>\n",
            "RangeIndex: 3693 entries, 0 to 3692\n",
            "Data columns (total 5 columns):\n",
            " #   Column       Non-Null Count  Dtype   \n",
            "---  ------       --------------  -----   \n",
            " 0   gender       3693 non-null   category\n",
            " 1   phone_flag   3693 non-null   category\n",
            " 2   student      3693 non-null   category\n",
            " 3   employment   3693 non-null   category\n",
            " 4   credit_card  3693 non-null   category\n",
            "dtypes: category(5)\n",
            "memory usage: 18.6 KB\n"
          ]
        }
      ]
    },
    {
      "cell_type": "markdown",
      "metadata": {
        "id": "sI9PKcbplMnt"
      },
      "source": [
        "#### Using Chi-Squred Test"
      ]
    },
    {
      "cell_type": "code",
      "metadata": {
        "colab": {
          "base_uri": "https://localhost:8080/"
        },
        "id": "nA4dqRwmlKhi",
        "outputId": "224da887-fa95-4552-a55c-8e55a8993976"
      },
      "source": [
        "chi_scores = chi2(X_cat, y)\n",
        "chi_scores"
      ],
      "execution_count": 203,
      "outputs": [
        {
          "output_type": "execute_result",
          "data": {
            "text/plain": [
              "(array([6.04597103e-02, 2.89090033e-02, 7.33603926e+00, 1.43399863e+02,\n",
              "        1.19378964e+01]),\n",
              " array([8.05770819e-01, 8.64989313e-01, 6.75855926e-03, 4.80622021e-33,\n",
              "        5.50035483e-04]))"
            ]
          },
          "metadata": {},
          "execution_count": 203
        }
      ]
    },
    {
      "cell_type": "code",
      "metadata": {
        "colab": {
          "base_uri": "https://localhost:8080/"
        },
        "id": "wosuS-IZlR89",
        "outputId": "b7715820-0f7f-4d3e-c90f-10f6a9529d6e"
      },
      "source": [
        "nilai_chi = pd.Series(chi_scores[0], index = X_cat.columns)\n",
        "nilai_chi"
      ],
      "execution_count": 204,
      "outputs": [
        {
          "output_type": "execute_result",
          "data": {
            "text/plain": [
              "gender           0.060460\n",
              "phone_flag       0.028909\n",
              "student          7.336039\n",
              "employment     143.399863\n",
              "credit_card     11.937896\n",
              "dtype: float64"
            ]
          },
          "metadata": {},
          "execution_count": 204
        }
      ]
    },
    {
      "cell_type": "code",
      "metadata": {
        "colab": {
          "base_uri": "https://localhost:8080/"
        },
        "id": "d2GzqmNWlUAh",
        "outputId": "3b9fa961-9d27-4460-9947-3ab87bc704a3"
      },
      "source": [
        "p_value = pd.Series(chi_scores[1], index = X_cat.columns)\n",
        "p_value.round(4)"
      ],
      "execution_count": 205,
      "outputs": [
        {
          "output_type": "execute_result",
          "data": {
            "text/plain": [
              "gender         0.8058\n",
              "phone_flag     0.8650\n",
              "student        0.0068\n",
              "employment     0.0000\n",
              "credit_card    0.0006\n",
              "dtype: float64"
            ]
          },
          "metadata": {},
          "execution_count": 205
        }
      ]
    },
    {
      "cell_type": "code",
      "metadata": {
        "colab": {
          "base_uri": "https://localhost:8080/",
          "height": 335
        },
        "id": "imrcJfaglWbx",
        "outputId": "8d349da4-f456-4e4f-86e2-66ecfcc5f507"
      },
      "source": [
        "nilai_chi.plot.bar()"
      ],
      "execution_count": 206,
      "outputs": [
        {
          "output_type": "execute_result",
          "data": {
            "text/plain": [
              "<matplotlib.axes._subplots.AxesSubplot at 0x7f5e5fcf4b90>"
            ]
          },
          "metadata": {},
          "execution_count": 206
        },
        {
          "output_type": "display_data",
          "data": {
            "image/png": "[encoded data removed]",
            "text/plain": [
              "<Figure size 432x288 with 1 Axes>"
            ]
          },
          "metadata": {
            "needs_background": "light"
          }
        }
      ]
    },
    {
      "cell_type": "markdown",
      "metadata": {
        "id": "Oq3pLWbxlio_"
      },
      "source": [
        "Berdasarkan nilai chi-squared serta p-value yang dihasilkan, dapat diambil kesimpulan bahwa dari 7 variabel kategori yang diuji signifikansi terhadap variabel target, diperoleh ternyata berdasarkan uji chi-squared hanya ada 4 variabel yang signifikan berpengaruh terhadap default atau tidaknya credit tersebut.\n",
        "\n",
        "variabel tersebut di antaranya **student, employement, credit_card**"
      ]
    },
    {
      "cell_type": "markdown",
      "metadata": {
        "id": "lj34toS0CRD9"
      },
      "source": [
        "## Train Test Split"
      ]
    },
    {
      "cell_type": "code",
      "metadata": {
        "id": "43mz_UjUCJIS"
      },
      "source": [
        "from sklearn.model_selection import train_test_split\n",
        "\n",
        "X = data.drop(['default', 'customer_id','gender','phone_flag' ], axis=1)\n",
        "y = data['default']"
      ],
      "execution_count": 207,
      "outputs": []
    },
    {
      "cell_type": "markdown",
      "metadata": {
        "id": "wq95OWz1CfQP"
      },
      "source": [
        "### Imbalaced"
      ]
    },
    {
      "cell_type": "code",
      "metadata": {
        "id": "MUUwFYJLCbDT"
      },
      "source": [
        "# Handling imbalance df\n",
        "from imblearn.over_sampling import SMOTE\n",
        "\n",
        "oversampling = SMOTE(random_state=43, sampling_strategy=1)"
      ],
      "execution_count": 208,
      "outputs": []
    },
    {
      "cell_type": "code",
      "metadata": {
        "id": "uYVj0vIGCjEA"
      },
      "source": [
        "# Fit the over sampling\n",
        "X, y = oversampling.fit_resample(X, y)"
      ],
      "execution_count": 209,
      "outputs": []
    },
    {
      "cell_type": "code",
      "metadata": {
        "id": "A0eaH1eaCkOv"
      },
      "source": [
        "X_train, X_test, y_train, y_test = train_test_split(X, y, test_size=0.2, random_state = 12)"
      ],
      "execution_count": 210,
      "outputs": []
    },
    {
      "cell_type": "markdown",
      "metadata": {
        "id": "aoiH9XpZCmU3"
      },
      "source": [
        "## Scaling"
      ]
    },
    {
      "cell_type": "code",
      "metadata": {
        "id": "S0Tkj70cClaM"
      },
      "source": [
        "# scaling\n",
        "from sklearn.preprocessing import StandardScaler"
      ],
      "execution_count": 211,
      "outputs": []
    },
    {
      "cell_type": "code",
      "metadata": {
        "id": "uLEfRKvfCqmH"
      },
      "source": [
        "scaler = StandardScaler().fit(X_train)\n",
        "X_train_scaled = scaler.fit_transform(X_train)\n",
        "X_test_scaled = scaler.transform(X_test)\n",
        "\n",
        "\n",
        "X_train_scaled = pd.DataFrame(X_train_scaled, columns=X.columns)\n",
        "X_test_scaled = pd.DataFrame(X_test_scaled, columns=X.columns)"
      ],
      "execution_count": 212,
      "outputs": []
    },
    {
      "cell_type": "code",
      "metadata": {
        "colab": {
          "base_uri": "https://localhost:8080/",
          "height": 206
        },
        "id": "fKVV2BUsCrzw",
        "outputId": "0197ad5e-2831-4b1f-e381-b9dd5032da6f"
      },
      "source": [
        "X_train.head()"
      ],
      "execution_count": 213,
      "outputs": [
        {
          "output_type": "execute_result",
          "data": {
            "text/html": [
              "<div>\n",
              "<style scoped>\n",
              "    .dataframe tbody tr th:only-of-type {\n",
              "        vertical-align: middle;\n",
              "    }\n",
              "\n",
              "    .dataframe tbody tr th {\n",
              "        vertical-align: top;\n",
              "    }\n",
              "\n",
              "    .dataframe thead th {\n",
              "        text-align: right;\n",
              "    }\n",
              "</style>\n",
              "<table border=\"1\" class=\"dataframe\">\n",
              "  <thead>\n",
              "    <tr style=\"text-align: right;\">\n",
              "      <th></th>\n",
              "      <th>student</th>\n",
              "      <th>employment</th>\n",
              "      <th>credit_card</th>\n",
              "      <th>balance</th>\n",
              "      <th>income</th>\n",
              "      <th>age</th>\n",
              "      <th>monthly tenure</th>\n",
              "    </tr>\n",
              "  </thead>\n",
              "  <tbody>\n",
              "    <tr>\n",
              "      <th>6278</th>\n",
              "      <td>0</td>\n",
              "      <td>1</td>\n",
              "      <td>0.047671</td>\n",
              "      <td>247493.285512</td>\n",
              "      <td>6.114989e+06</td>\n",
              "      <td>20</td>\n",
              "      <td>21</td>\n",
              "    </tr>\n",
              "    <tr>\n",
              "      <th>5081</th>\n",
              "      <td>0</td>\n",
              "      <td>0</td>\n",
              "      <td>0.482535</td>\n",
              "      <td>159525.261651</td>\n",
              "      <td>4.269392e+06</td>\n",
              "      <td>31</td>\n",
              "      <td>18</td>\n",
              "    </tr>\n",
              "    <tr>\n",
              "      <th>6677</th>\n",
              "      <td>0</td>\n",
              "      <td>0</td>\n",
              "      <td>1.000000</td>\n",
              "      <td>171180.721710</td>\n",
              "      <td>5.702354e+06</td>\n",
              "      <td>35</td>\n",
              "      <td>22</td>\n",
              "    </tr>\n",
              "    <tr>\n",
              "      <th>5482</th>\n",
              "      <td>0</td>\n",
              "      <td>0</td>\n",
              "      <td>0.323893</td>\n",
              "      <td>166422.747180</td>\n",
              "      <td>5.217793e+06</td>\n",
              "      <td>25</td>\n",
              "      <td>20</td>\n",
              "    </tr>\n",
              "    <tr>\n",
              "      <th>4456</th>\n",
              "      <td>1</td>\n",
              "      <td>0</td>\n",
              "      <td>0.000000</td>\n",
              "      <td>260265.310855</td>\n",
              "      <td>2.646271e+06</td>\n",
              "      <td>10</td>\n",
              "      <td>23</td>\n",
              "    </tr>\n",
              "  </tbody>\n",
              "</table>\n",
              "</div>"
            ],
            "text/plain": [
              "      student  employment  credit_card  ...        income  age  monthly tenure\n",
              "6278        0           1     0.047671  ...  6.114989e+06   20              21\n",
              "5081        0           0     0.482535  ...  4.269392e+06   31              18\n",
              "6677        0           0     1.000000  ...  5.702354e+06   35              22\n",
              "5482        0           0     0.323893  ...  5.217793e+06   25              20\n",
              "4456        1           0     0.000000  ...  2.646271e+06   10              23\n",
              "\n",
              "[5 rows x 7 columns]"
            ]
          },
          "metadata": {},
          "execution_count": 213
        }
      ]
    },
    {
      "cell_type": "code",
      "metadata": {
        "colab": {
          "base_uri": "https://localhost:8080/",
          "height": 206
        },
        "id": "2x9-SFPeCtz9",
        "outputId": "bbd830ea-cfea-477b-be24-839ea82f8025"
      },
      "source": [
        "X_train_scaled.head()"
      ],
      "execution_count": 214,
      "outputs": [
        {
          "output_type": "execute_result",
          "data": {
            "text/html": [
              "<div>\n",
              "<style scoped>\n",
              "    .dataframe tbody tr th:only-of-type {\n",
              "        vertical-align: middle;\n",
              "    }\n",
              "\n",
              "    .dataframe tbody tr th {\n",
              "        vertical-align: top;\n",
              "    }\n",
              "\n",
              "    .dataframe thead th {\n",
              "        text-align: right;\n",
              "    }\n",
              "</style>\n",
              "<table border=\"1\" class=\"dataframe\">\n",
              "  <thead>\n",
              "    <tr style=\"text-align: right;\">\n",
              "      <th></th>\n",
              "      <th>student</th>\n",
              "      <th>employment</th>\n",
              "      <th>credit_card</th>\n",
              "      <th>balance</th>\n",
              "      <th>income</th>\n",
              "      <th>age</th>\n",
              "      <th>monthly tenure</th>\n",
              "    </tr>\n",
              "  </thead>\n",
              "  <tbody>\n",
              "    <tr>\n",
              "      <th>0</th>\n",
              "      <td>-0.678840</td>\n",
              "      <td>2.067184</td>\n",
              "      <td>-0.636772</td>\n",
              "      <td>1.292292</td>\n",
              "      <td>1.354589</td>\n",
              "      <td>-0.503964</td>\n",
              "      <td>0.673203</td>\n",
              "    </tr>\n",
              "    <tr>\n",
              "      <th>1</th>\n",
              "      <td>-0.678840</td>\n",
              "      <td>-0.483750</td>\n",
              "      <td>0.350898</td>\n",
              "      <td>0.083981</td>\n",
              "      <td>0.210303</td>\n",
              "      <td>0.663066</td>\n",
              "      <td>-0.262904</td>\n",
              "    </tr>\n",
              "    <tr>\n",
              "      <th>2</th>\n",
              "      <td>-0.678840</td>\n",
              "      <td>-0.483750</td>\n",
              "      <td>1.526175</td>\n",
              "      <td>0.244078</td>\n",
              "      <td>1.098752</td>\n",
              "      <td>1.087440</td>\n",
              "      <td>0.985239</td>\n",
              "    </tr>\n",
              "    <tr>\n",
              "      <th>3</th>\n",
              "      <td>-0.678840</td>\n",
              "      <td>-0.483750</td>\n",
              "      <td>-0.009412</td>\n",
              "      <td>0.178724</td>\n",
              "      <td>0.798319</td>\n",
              "      <td>0.026504</td>\n",
              "      <td>0.361167</td>\n",
              "    </tr>\n",
              "    <tr>\n",
              "      <th>4</th>\n",
              "      <td>1.473102</td>\n",
              "      <td>-0.483750</td>\n",
              "      <td>-0.745044</td>\n",
              "      <td>1.467726</td>\n",
              "      <td>-0.796048</td>\n",
              "      <td>-1.564900</td>\n",
              "      <td>1.297275</td>\n",
              "    </tr>\n",
              "  </tbody>\n",
              "</table>\n",
              "</div>"
            ],
            "text/plain": [
              "    student  employment  credit_card  ...    income       age  monthly tenure\n",
              "0 -0.678840    2.067184    -0.636772  ...  1.354589 -0.503964        0.673203\n",
              "1 -0.678840   -0.483750     0.350898  ...  0.210303  0.663066       -0.262904\n",
              "2 -0.678840   -0.483750     1.526175  ...  1.098752  1.087440        0.985239\n",
              "3 -0.678840   -0.483750    -0.009412  ...  0.798319  0.026504        0.361167\n",
              "4  1.473102   -0.483750    -0.745044  ... -0.796048 -1.564900        1.297275\n",
              "\n",
              "[5 rows x 7 columns]"
            ]
          },
          "metadata": {},
          "execution_count": 214
        }
      ]
    },
    {
      "cell_type": "markdown",
      "metadata": {
        "id": "Q2Ll8WssC7IC"
      },
      "source": [
        "# Classification Model"
      ]
    },
    {
      "cell_type": "markdown",
      "metadata": {
        "id": "ZpTbTU8YC978"
      },
      "source": [
        "## Import Library"
      ]
    },
    {
      "cell_type": "code",
      "metadata": {
        "id": "RMUqXQm3C6Bu"
      },
      "source": [
        "from sklearn.neighbors import KNeighborsClassifier\n",
        "from sklearn.tree import DecisionTreeClassifier\n",
        "from sklearn.ensemble import RandomForestClassifier\n",
        "from sklearn.metrics import confusion_matrix\n",
        "from sklearn.metrics import classification_report"
      ],
      "execution_count": 215,
      "outputs": []
    },
    {
      "cell_type": "code",
      "metadata": {
        "id": "mSo5UanGDA4Z"
      },
      "source": [
        "# evaluation metrics\n",
        "def classification_eval (aktual, prediksi, name):\n",
        "    cm = confusion_matrix(aktual, prediksi)\n",
        "    tp = cm[1][1]\n",
        "    tn = cm[0][0]\n",
        "    fp = cm[0][1]\n",
        "    fn = cm[1][0]\n",
        "    \n",
        "    accuracy = round((tp+tn) / (tp+tn+fp+fn) * 100, 2)\n",
        "    precision = round((tp) / (tp+fp) * 100, 2)\n",
        "    recall = round((tp) / (tp+fn) * 100, 2)\n",
        "    f1_score = round((2* (precision * recall)/(precision + recall)))\n",
        "    \n",
        "    print('Evaluation Model:', name)\n",
        "    print(cm)\n",
        "    print('Accuracy   :', accuracy, '%')\n",
        "    print('Precision  :', precision, '%')\n",
        "    print('Recall     :', recall, '%')\n",
        "    print('F1_Score   :', f1_score, '%')"
      ],
      "execution_count": 216,
      "outputs": []
    },
    {
      "cell_type": "markdown",
      "metadata": {
        "id": "8AqBNZQBDEZg"
      },
      "source": [
        "## KNN"
      ]
    },
    {
      "cell_type": "code",
      "metadata": {
        "colab": {
          "base_uri": "https://localhost:8080/"
        },
        "id": "DA8Ett5xDCu3",
        "outputId": "141cd23d-8f42-452e-8155-90103ad0cdf3"
      },
      "source": [
        "knn = KNeighborsClassifier(n_neighbors=7)\n",
        "knn.fit(X_train_scaled,y_train)"
      ],
      "execution_count": 217,
      "outputs": [
        {
          "output_type": "execute_result",
          "data": {
            "text/plain": [
              "KNeighborsClassifier(n_neighbors=7)"
            ]
          },
          "metadata": {},
          "execution_count": 217
        }
      ]
    },
    {
      "cell_type": "code",
      "metadata": {
        "id": "aPJM22Y5DHQU"
      },
      "source": [
        "y_train_pred = knn.predict(X_train_scaled)\n",
        "y_test_pred = knn.predict(X_test_scaled)"
      ],
      "execution_count": 218,
      "outputs": []
    },
    {
      "cell_type": "code",
      "metadata": {
        "colab": {
          "base_uri": "https://localhost:8080/"
        },
        "id": "7Q39XZmJDIr6",
        "outputId": "30909b40-90fe-47e1-d816-7e12015609c8"
      },
      "source": [
        "classification_eval(y_train, y_train_pred, 'KNN Training')"
      ],
      "execution_count": 219,
      "outputs": [
        {
          "output_type": "stream",
          "name": "stdout",
          "text": [
            "Evaluation Model: KNN Training\n",
            "[[2536  224]\n",
            " [  54 2686]]\n",
            "Accuracy   : 94.95 %\n",
            "Precision  : 92.3 %\n",
            "Recall     : 98.03 %\n",
            "F1_Score   : 95 %\n"
          ]
        }
      ]
    },
    {
      "cell_type": "code",
      "metadata": {
        "colab": {
          "base_uri": "https://localhost:8080/"
        },
        "id": "cbUM5HZnDKcR",
        "outputId": "433069d6-e500-4d0e-f25f-599d87d2fb73"
      },
      "source": [
        "classification_eval(y_test, y_test_pred, 'KNN Testing')"
      ],
      "execution_count": 220,
      "outputs": [
        {
          "output_type": "stream",
          "name": "stdout",
          "text": [
            "Evaluation Model: KNN Testing\n",
            "[[609  69]\n",
            " [ 21 677]]\n",
            "Accuracy   : 93.46 %\n",
            "Precision  : 90.75 %\n",
            "Recall     : 96.99 %\n",
            "F1_Score   : 94 %\n"
          ]
        }
      ]
    },
    {
      "cell_type": "markdown",
      "metadata": {
        "id": "gtv-h2GGDOXl"
      },
      "source": [
        "## Decision Tree"
      ]
    },
    {
      "cell_type": "code",
      "metadata": {
        "colab": {
          "base_uri": "https://localhost:8080/"
        },
        "id": "p8pTDwc5DMIf",
        "outputId": "dd50153b-e44c-4838-bcb7-c3b6796dd9fd"
      },
      "source": [
        "dectree = DecisionTreeClassifier(max_depth=7) # bisa cek pake gini atau pake entropy\n",
        "dectree.fit(X_train, y_train)"
      ],
      "execution_count": 221,
      "outputs": [
        {
          "output_type": "execute_result",
          "data": {
            "text/plain": [
              "DecisionTreeClassifier(max_depth=7)"
            ]
          },
          "metadata": {},
          "execution_count": 221
        }
      ]
    },
    {
      "cell_type": "code",
      "metadata": {
        "id": "zTWLnNTkDTUc"
      },
      "source": [
        "y_train_pred = dectree.predict(X_train)\n",
        "y_test_pred = dectree.predict(X_test)"
      ],
      "execution_count": 222,
      "outputs": []
    },
    {
      "cell_type": "code",
      "metadata": {
        "colab": {
          "base_uri": "https://localhost:8080/",
          "height": 424
        },
        "id": "mn4A7h7aDU95",
        "outputId": "d7f0b751-dc2c-473d-89e4-07fca34c3f15"
      },
      "source": [
        "pd.DataFrame(y_test_pred, columns=['is_promoted'])"
      ],
      "execution_count": 223,
      "outputs": [
        {
          "output_type": "execute_result",
          "data": {
            "text/html": [
              "<div>\n",
              "<style scoped>\n",
              "    .dataframe tbody tr th:only-of-type {\n",
              "        vertical-align: middle;\n",
              "    }\n",
              "\n",
              "    .dataframe tbody tr th {\n",
              "        vertical-align: top;\n",
              "    }\n",
              "\n",
              "    .dataframe thead th {\n",
              "        text-align: right;\n",
              "    }\n",
              "</style>\n",
              "<table border=\"1\" class=\"dataframe\">\n",
              "  <thead>\n",
              "    <tr style=\"text-align: right;\">\n",
              "      <th></th>\n",
              "      <th>is_promoted</th>\n",
              "    </tr>\n",
              "  </thead>\n",
              "  <tbody>\n",
              "    <tr>\n",
              "      <th>0</th>\n",
              "      <td>1</td>\n",
              "    </tr>\n",
              "    <tr>\n",
              "      <th>1</th>\n",
              "      <td>1</td>\n",
              "    </tr>\n",
              "    <tr>\n",
              "      <th>2</th>\n",
              "      <td>0</td>\n",
              "    </tr>\n",
              "    <tr>\n",
              "      <th>3</th>\n",
              "      <td>0</td>\n",
              "    </tr>\n",
              "    <tr>\n",
              "      <th>4</th>\n",
              "      <td>1</td>\n",
              "    </tr>\n",
              "    <tr>\n",
              "      <th>...</th>\n",
              "      <td>...</td>\n",
              "    </tr>\n",
              "    <tr>\n",
              "      <th>1371</th>\n",
              "      <td>1</td>\n",
              "    </tr>\n",
              "    <tr>\n",
              "      <th>1372</th>\n",
              "      <td>1</td>\n",
              "    </tr>\n",
              "    <tr>\n",
              "      <th>1373</th>\n",
              "      <td>1</td>\n",
              "    </tr>\n",
              "    <tr>\n",
              "      <th>1374</th>\n",
              "      <td>0</td>\n",
              "    </tr>\n",
              "    <tr>\n",
              "      <th>1375</th>\n",
              "      <td>1</td>\n",
              "    </tr>\n",
              "  </tbody>\n",
              "</table>\n",
              "<p>1376 rows × 1 columns</p>\n",
              "</div>"
            ],
            "text/plain": [
              "      is_promoted\n",
              "0               1\n",
              "1               1\n",
              "2               0\n",
              "3               0\n",
              "4               1\n",
              "...           ...\n",
              "1371            1\n",
              "1372            1\n",
              "1373            1\n",
              "1374            0\n",
              "1375            1\n",
              "\n",
              "[1376 rows x 1 columns]"
            ]
          },
          "metadata": {},
          "execution_count": 223
        }
      ]
    },
    {
      "cell_type": "code",
      "metadata": {
        "colab": {
          "base_uri": "https://localhost:8080/"
        },
        "id": "MO0XAgZFDW7k",
        "outputId": "54fdf96a-eee7-4a34-b369-9a73b66a5ed3"
      },
      "source": [
        "classification_eval(y_train, y_train_pred, 'Decision Tree Training')"
      ],
      "execution_count": 224,
      "outputs": [
        {
          "output_type": "stream",
          "name": "stdout",
          "text": [
            "Evaluation Model: Decision Tree Training\n",
            "[[2575  185]\n",
            " [ 103 2637]]\n",
            "Accuracy   : 94.76 %\n",
            "Precision  : 93.44 %\n",
            "Recall     : 96.24 %\n",
            "F1_Score   : 95 %\n"
          ]
        }
      ]
    },
    {
      "cell_type": "code",
      "metadata": {
        "colab": {
          "base_uri": "https://localhost:8080/"
        },
        "id": "4BJKPt1nDYt-",
        "outputId": "571707ec-eec9-4d62-9ce0-f46ff539eebc"
      },
      "source": [
        "classification_eval(y_test, y_test_pred, 'Decision Tree Testing')"
      ],
      "execution_count": 225,
      "outputs": [
        {
          "output_type": "stream",
          "name": "stdout",
          "text": [
            "Evaluation Model: Decision Tree Testing\n",
            "[[620  58]\n",
            " [ 40 658]]\n",
            "Accuracy   : 92.88 %\n",
            "Precision  : 91.9 %\n",
            "Recall     : 94.27 %\n",
            "F1_Score   : 93 %\n"
          ]
        }
      ]
    },
    {
      "cell_type": "markdown",
      "metadata": {
        "id": "qv5NPtjRDb_Y"
      },
      "source": [
        "## Random Forest"
      ]
    },
    {
      "cell_type": "code",
      "metadata": {
        "colab": {
          "base_uri": "https://localhost:8080/"
        },
        "id": "s0YdEQK8DaXP",
        "outputId": "a9202229-58cb-4d12-fdf1-1b72cb8b1e00"
      },
      "source": [
        "ranfor = RandomForestClassifier(max_depth=7)\n",
        "ranfor.fit(X_train, y_train)"
      ],
      "execution_count": 226,
      "outputs": [
        {
          "output_type": "execute_result",
          "data": {
            "text/plain": [
              "RandomForestClassifier(max_depth=7)"
            ]
          },
          "metadata": {},
          "execution_count": 226
        }
      ]
    },
    {
      "cell_type": "code",
      "metadata": {
        "id": "DlgydaCxDgFO"
      },
      "source": [
        "y_train_pred = ranfor.predict(X_train)\n",
        "y_test_pred = ranfor.predict(X_test)"
      ],
      "execution_count": 227,
      "outputs": []
    },
    {
      "cell_type": "code",
      "metadata": {
        "colab": {
          "base_uri": "https://localhost:8080/"
        },
        "id": "cQGs_tdgDhkq",
        "outputId": "f6601dea-393f-4e51-a7e2-b64287d92564"
      },
      "source": [
        "classification_eval(y_train, y_train_pred, 'Random Forest Training')"
      ],
      "execution_count": 228,
      "outputs": [
        {
          "output_type": "stream",
          "name": "stdout",
          "text": [
            "Evaluation Model: Random Forest Training\n",
            "[[2569  191]\n",
            " [ 101 2639]]\n",
            "Accuracy   : 94.69 %\n",
            "Precision  : 93.25 %\n",
            "Recall     : 96.31 %\n",
            "F1_Score   : 95 %\n"
          ]
        }
      ]
    },
    {
      "cell_type": "code",
      "metadata": {
        "colab": {
          "base_uri": "https://localhost:8080/"
        },
        "id": "rVopIPL_Di2j",
        "outputId": "60d8fffe-26e2-4070-9571-63f4f2cf790c"
      },
      "source": [
        "classification_eval(y_test, y_test_pred, 'Random Forest testing')"
      ],
      "execution_count": 229,
      "outputs": [
        {
          "output_type": "stream",
          "name": "stdout",
          "text": [
            "Evaluation Model: Random Forest testing\n",
            "[[632  46]\n",
            " [ 26 672]]\n",
            "Accuracy   : 94.77 %\n",
            "Precision  : 93.59 %\n",
            "Recall     : 96.28 %\n",
            "F1_Score   : 95 %\n"
          ]
        }
      ]
    },
    {
      "cell_type": "code",
      "metadata": {
        "id": "OxIcXu7GDliE"
      },
      "source": [
        ""
      ],
      "execution_count": null,
      "outputs": []
    }
  ]
}